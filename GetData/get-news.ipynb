{
 "cells": [
  {
   "cell_type": "markdown",
   "metadata": {},
   "source": [
    "# Dùng get-news để crawl dữ liệu tin tức"
   ]
  },
  {
   "cell_type": "markdown",
   "metadata": {},
   "source": [
    "## 0. Change log\n",
    "Ver0.1: Sử dụng thư viện [news-please](https://github.com/fhamborg/news-please), nhược điểm chưa lấy được URL của hình ảnh và videos\n",
    "\n",
    "Ver0.2: Sử dụng thêm thư viện BeautifulSoup để lấy thêm được URL của ảnh"
   ]
  },
  {
   "cell_type": "markdown",
   "metadata": {},
   "source": [
    "## 1. Import thư viện để crawl"
   ]
  },
  {
   "cell_type": "code",
   "execution_count": 2,
   "metadata": {},
   "outputs": [],
   "source": [
    "import json\n",
    "from newsplease import NewsPlease\n",
    "from bs4 import BeautifulSoup"
   ]
  },
  {
   "cell_type": "markdown",
   "metadata": {},
   "source": [
    "## 2. Các dữ liệu tin tức giả\n",
    "URL về Fake News, tập hợp từ các bài viết có nội dung không được xác minh về nguồn tin, hoặc được xác nhận sai,... Có thể lưu url các bài báo trong 1 file text (mỗi url là 1 dòng)"
   ]
  },
  {
   "cell_type": "code",
   "execution_count": 3,
   "metadata": {},
   "outputs": [],
   "source": [
    "fake_news_urls = [\"https://suckhoe.vnexpress.net/tin-tuc/tu-van/buc-ve-giup-ban-danh-gia-muc-do-stress-cua-ban-than-3840208.html\", \n",
    "                  \"http://emdep.vn/nhip-song/hinh-anh-giup-ban-danh-gia-muc-do-stress-cua-ban-than-duoc-tao-ra-boi-mot-giao-su-khoa-than-kinh-nhat-ban-20181118232703695.htm\",\n",
    "                  \"https://laodong.vn/suc-khoe/buc-ve-giup-ban-danh-gia-muc-do-stress-cua-ban-than-642031.ldo\",\n",
    "                  \"https://vnreview.vn/headlines-detail/-/headline/buc-ve-giup-ban-danh-gia-muc-do-stress-cua-ban-than\"\n",
    "                 ]"
   ]
  },
  {
   "cell_type": "markdown",
   "metadata": {},
   "source": [
    "Bắt đầu crawl dữ liệu tin tức giả đưa vào list fake_articles"
   ]
  },
  {
   "cell_type": "code",
   "execution_count": 4,
   "metadata": {},
   "outputs": [],
   "source": [
    "fake_articles = []\n",
    "for fake_url in fake_news_urls:\n",
    "    fake_articles.append(NewsPlease.from_url(fake_url))"
   ]
  },
  {
   "cell_type": "markdown",
   "metadata": {},
   "source": [
    "Tên của các file json sẽ chứa nội dung vừa crawl"
   ]
  },
  {
   "cell_type": "code",
   "execution_count": 5,
   "metadata": {},
   "outputs": [],
   "source": [
    "fake_no = 1\n",
    "fake_prefix = 'VFND_Ac_Fake_'"
   ]
  },
  {
   "cell_type": "markdown",
   "metadata": {},
   "source": [
    "Đưa các dữ liệu vừa crawl vào các file json dữ liệu. Các thông số cho json.dump lần lượt là: __default = str__ đưa tất cả về string để tránh lỗi trong quá trình parse dữ liệu dạng _datetime_ sang json của các trường date\\_modify, date\\_download, date\\_publish; __ensure\\_ascii=False__ là để giữ các dữ liệu text ở dạng Unicode - để không bị lỗi khi đưa vào file json khi để text ở định dạng Unicode, thì trong phần __open()__ đặt thông số _encoding='utf-8'_. \n",
    "\n",
    "Các biến:\n",
    "1. fake\\_name: tên file để lưu\n",
    "2. fake\\_no: số thứ tự của file"
   ]
  },
  {
   "cell_type": "code",
   "execution_count": 6,
   "metadata": {},
   "outputs": [],
   "source": [
    "for fake in fake_articles:\n",
    "    fake_name = fake_prefix + str(fake_no) + '.json' \n",
    "    fake_no = fake_no + 1\n",
    "    \n",
    "    with open(fake_name, 'w', encoding='utf-8') as outfile:\n",
    "        json.dump(fake.__dict__, outfile, indent=4, sort_keys=True, default=str, ensure_ascii=False)"
   ]
  },
  {
   "cell_type": "markdown",
   "metadata": {},
   "source": [
    "Test các kết quả trả ra khi crawl ở cell dưới"
   ]
  },
  {
   "cell_type": "code",
   "execution_count": 7,
   "metadata": {},
   "outputs": [
    {
     "name": "stdout",
     "output_type": "stream",
     "text": [
      "{'authors': [], 'date_download': datetime.datetime(2018, 11, 20, 2, 19, 17), 'date_modify': None, 'date_publish': datetime.datetime(2018, 11, 17, 12, 15), 'description': 'Bức vẽ gồm một hình cầu dường như đang trượt mang lại ảo giác khác nhau, được các nhà thần kinh học dùng làm bài kiểm tra tâm lý.\\xa0 - VnExpress Sức Khỏe', 'filename': 'https%3A%2F%2Fsuckhoe.vnexpress.net%2Ftin-tuc%2Ftu-van%2Fbuc-ve-giup-ban-danh-gia-muc-do-stress-cua-ban-than-3840208.html.json', 'image_url': 'https://i-suckhoe.vnecdn.net/2018/11/16/onh-1542365135-2503-1542369222_500x300.jpg', 'language': 'vi', 'localpath': None, 'title': 'Bức vẽ giúp bạn đánh giá mức độ stress của bản thân', 'title_page': None, 'title_rss': None, 'source_domain': 'suckhoe.vnexpress.net', 'text': 'Nhìn bức tranh, bạn có thể thấy vòng tròn đang chuyển động một cách chậm rãi. Người khác lại cho biết họ thấy hình ảnh chuyển động rất nhanh và đau đầu khi nhìn chúng quá lâu.\\nTheo giáo sư thần kinh Yamamoto, Nhật Bản, nếu nhìn thấy hình ảnh không chuyển động, cơ thể bạn đang khỏe mạnh. Khi ảnh di chuyển từ từ, bạn hơi căng thẳng và mệt mỏi. Nếu thấy quả cầu quay liên tục, bạn đang bị stress và có thể mắc vấn đề về tâm lý.\\nTiến sĩ thần kinh học Alice Mado Proverbio, Đại học Milano-Bicocca, Italy, người đăng tải bức ảnh này, đảm bảo rằng đây không phải là GIF hay ảnh động. \"Bức ảnh chính xác là một hình ảnh tĩnh 100%\", bà Alice nói.\\nBức tranh kiểm tra stress được tiến sĩ Alice Proverbio giới thiệu. Ảnh: BBC\\nTheo BBC, là người chuyên nghiên cứu về cách thức hoạt động của bộ não con người, tiến sĩ Alice giải thích tâm trí của chúng ta đang bị lừa dối để nghĩ rằng hình ảnh đang chuyển động. Hiệu ứng này được tạo ra trong vỏ não thị giác, có trách nhiệm xử lý mọi thứ con người thấy.\\nTrong vùng vỏ não thị giác có các V1, V2, V3, V4 và V5. Trong đó, V4 chịu trách nhiệm về màu sắc và hình dạng, ưu tiên nhận thức về hình xoắn ốc và hình cầu; V5 (được gọi là MT) là một khu vực xử lý các chuyển động và những hình ảnh 3D. Hiệu ứng này được kích hoạt bởi độ bão hòa của các tế bào thần kinh V4 khiến tốc độ các nơron V5 di chuyển được hiểu là tín hiệu cảm giác.\\n\"Hai hình ảnh khác nhau chiếu vào võng mạc của mỗi mắt là một tương tác rất phức tạp. Về cơ bản, nó là một ví dụ về sự cạnh tranh trong vỏ não thị giác. Khi một tín hiệu suy yếu hoặc bị ức chế vì bất kỳ lý do gì, các yếu tố khác có thể được biểu diễn ở mức nhận thức cao hơn\", bà Alice nói.\\nHiệu ứng diễn ra bên trong não khi nhìn thấy hình ảnh: Ảnh: BBC\\nTheo tiến sĩ Alice, xem bức vẽ nếu không thấy bất kỳ chuyển động nào, hãy thử nhìn bằng góc mắt khác hoặc có thể do bạn sử dụng màn hình chưa đủ lớn. Hiệu ứng cũng có thể thay đổi tùy vào khoảng cách mà người đó nhìn thấy hình ảnh.\\nKhi nhìn hình ảnh này quá lâu, vòng tròn dường như chuyển động nhanh hơn khiến bạn đau đầu, chóng mặt. Điều này lý giải vì sao nhiều chuyên gia tâm lý đánh giá mức độ căng thẳng qua cách chuyển động nhanh dần của bức ảnh.\\nAlice Mado Proverbio tốt nghiệp ngành Tâm lý học thực nghiệm của Đại học Rome La Sapienza, Italy. Các nghiên cứu của bà đã nhận được rất nhiều tài trợ bao gồm Quỹ khoa học châu Âu, Hiệp hội Tâm lý học nhận thức châu Âu và Quỹ James McDonnel về Khoa học thần kinh nhận thức...\\nCẩm Anh', 'url': 'https://suckhoe.vnexpress.net/tin-tuc/tu-van/buc-ve-giup-ban-danh-gia-muc-do-stress-cua-ban-than-3840208.html'}\n"
     ]
    }
   ],
   "source": [
    "print (fake_articles[0].__dict__)"
   ]
  },
  {
   "cell_type": "markdown",
   "metadata": {},
   "source": [
    "## 3. Các dữ liệu tin tức thật"
   ]
  },
  {
   "cell_type": "code",
   "execution_count": 2,
   "metadata": {},
   "outputs": [],
   "source": [
    "real_news_urls = [\n",
    "                  'https://vnexpress.net/tin-tuc/thoi-su/thong-nga-tren-deo-prenn-giao-thong-tac-nghen-2-gio-3816674.html'\n",
    "                 ]"
   ]
  },
  {
   "cell_type": "markdown",
   "metadata": {},
   "source": [
    "Bắt đầu crawl dữ liệu, sử dụng thư viện news-please, các tin tức sẽ được lấy theo URL và được chứa trong mảng _real_\\__article_."
   ]
  },
  {
   "cell_type": "code",
   "execution_count": 3,
   "metadata": {},
   "outputs": [],
   "source": [
    "real_articles = []\n",
    "for real_url in real_news_urls:\n",
    "    real_articles.append(NewsPlease.from_url(real_url))"
   ]
  },
  {
   "cell_type": "markdown",
   "metadata": {},
   "source": [
    "Do thư viện _news-please_ không hỗ trợ để lấy hình ảnh vì thế chúng ta sẽ lấy hình ảnh thông qua thư viện _BeautifulSoup_. Sau mỗi lần lấy chúng ta tạo ra 1 đối tượng dictionary cho mỗi URL"
   ]
  },
  {
   "cell_type": "code",
   "execution_count": null,
   "metadata": {},
   "outputs": [],
   "source": [
    "real_imgs = []\n",
    "for real_url in real_news_urls:\n",
    "    "
   ]
  },
  {
   "cell_type": "markdown",
   "metadata": {},
   "source": [
    "Merge 2 đối tượng dictionary. Tham khảo từ: [How to merge two dictionaries in a single expression? - StackOverflow](https://stackoverflow.com/questions/38987/how-to-merge-two-dictionaries-in-a-single-expression)"
   ]
  },
  {
   "cell_type": "markdown",
   "metadata": {},
   "source": [
    "Tương tự với việc crawl dữ liệu về tin tức giả. Ta có danh sách 1 số biến:\n",
    "1. real\\_name: tên file để lưu\n",
    "2. real\\_no: số thứ tự của file"
   ]
  },
  {
   "cell_type": "code",
   "execution_count": 4,
   "metadata": {},
   "outputs": [],
   "source": [
    "real_no = 8\n",
    "real_prefix = 'VFND_Ac_Real_'"
   ]
  },
  {
   "cell_type": "code",
   "execution_count": 5,
   "metadata": {},
   "outputs": [],
   "source": [
    "for real in real_articles:\n",
    "    real_name = real_prefix + str(real_no) + '.json'\n",
    "    real_no = real_no + 1\n",
    "    with open(real_name, 'w', encoding='utf-8') as outfile:\n",
    "        json.dump(real.__dict__, outfile, indent=4, sort_keys=True, default=str, ensure_ascii=False)"
   ]
  },
  {
   "cell_type": "markdown",
   "metadata": {},
   "source": [
    "Test các kết quả trả ra khi crawl ở cell dưới"
   ]
  },
  {
   "cell_type": "code",
   "execution_count": null,
   "metadata": {},
   "outputs": [],
   "source": [
    "print(real_articles[0].__dict__)"
   ]
  }
 ],
 "metadata": {
  "kernelspec": {
   "display_name": "Python 3",
   "language": "python",
   "name": "python3"
  },
  "language_info": {
   "codemirror_mode": {
    "name": "ipython",
    "version": 3
   },
   "file_extension": ".py",
   "mimetype": "text/x-python",
   "name": "python",
   "nbconvert_exporter": "python",
   "pygments_lexer": "ipython3",
   "version": "3.7.0"
  }
 },
 "nbformat": 4,
 "nbformat_minor": 2
}
