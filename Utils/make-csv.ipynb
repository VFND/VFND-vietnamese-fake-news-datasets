{
 "cells": [
  {
   "cell_type": "markdown",
   "metadata": {},
   "source": [
    "# Tạo file CSV \n",
    "\n",
    "__Tham khảo__:\n",
    "1. [Writing a dictionary to a csv file with one line for every 'key: value'](https://stackoverflow.com/a/8685873/5144980)"
   ]
  },
  {
   "cell_type": "code",
   "execution_count": 1,
   "metadata": {},
   "outputs": [],
   "source": [
    "import os, json\n",
    "\n",
    "from utils import numericalSort"
   ]
  },
  {
   "cell_type": "code",
   "execution_count": null,
   "metadata": {},
   "outputs": [],
   "source": []
  },
  {
   "cell_type": "markdown",
   "metadata": {},
   "source": [
    "## 1. Dạng #1\n",
    "Tạo file CSV có cấu trúc:\n",
    "\n",
    "```Title + Text || Lable (fake = 1 or real = 0)```\n"
   ]
  },
  {
   "cell_type": "code",
   "execution_count": 2,
   "metadata": {},
   "outputs": [],
   "source": [
    "fake_path = '../Article_Contents/Fake'\n",
    "real_path = '../Article_Contents/Real'\n",
    "\n",
    "fake_label = 1\n",
    "real_label = 0"
   ]
  },
  {
   "cell_type": "code",
   "execution_count": 3,
   "metadata": {},
   "outputs": [],
   "source": [
    "news_data = list()"
   ]
  },
  {
   "cell_type": "markdown",
   "metadata": {},
   "source": [
    "Tham khảo từ:\n",
    "1. write-document\n",
    "2. [Load and read all files json in a folder with python](https://stackoverflow.com/a/48715737/5144980)\n",
    "3. [Reading files in a particular order in python](https://stackoverflow.com/a/12093995/5144980)"
   ]
  },
  {
   "cell_type": "markdown",
   "metadata": {},
   "source": [
    "_get_\\__data_: load các file json trong các đường dẫn có trước vào _list các dictionary_"
   ]
  },
  {
   "cell_type": "code",
   "execution_count": 4,
   "metadata": {},
   "outputs": [],
   "source": [
    "def get_data(path, label):\n",
    "    data_list = []\n",
    "    json_files = [ x for x in os.listdir(path) if x.endswith(\"json\") ]\n",
    "    json_files = sorted(json_files, key=numericalSort) #sort file in numeric order\n",
    "    \n",
    "    for file in json_files:\n",
    "        with open(os.path.join(path, file), encoding='utf-8') as j:\n",
    "            try:     \n",
    "                data_dict = json.load(j)            \n",
    "                text_str = data_dict['title'] + '\\n' + data_dict['text']\n",
    "                data = {\n",
    "                    \"text\": text_str,\n",
    "                    \"label\": label\n",
    "                }\n",
    "                data_list.append(data)\n",
    "            except Exception as e:\n",
    "                print(e, ': ', file)\n",
    "                continue\n",
    "    return data_list\n",
    "        "
   ]
  },
  {
   "cell_type": "code",
   "execution_count": 5,
   "metadata": {},
   "outputs": [
    {
     "name": "stdout",
     "output_type": "stream",
     "text": [
      "27\n"
     ]
    }
   ],
   "source": [
    "fake_list = get_data(fake_path, fake_label)\n",
    "real_list = get_data(real_path, real_label)\n",
    "\n",
    "print('Fake: ', len(fake_list))\n",
    "print('Real: ', len(real_list))"
   ]
  },
  {
   "cell_type": "markdown",
   "metadata": {},
   "source": [
    "Đưa tất cả các tin tức thật và giả trong 2 list ```fake_list, real_list``` vào cùng 1 list để có thể đưa vào file ```data.csv```"
   ]
  },
  {
   "cell_type": "code",
   "execution_count": 7,
   "metadata": {},
   "outputs": [],
   "source": [
    "news_data.extend(fake_list)\n",
    "news_data.extend(real_list)"
   ]
  },
  {
   "cell_type": "code",
   "execution_count": 8,
   "metadata": {},
   "outputs": [
    {
     "name": "stdout",
     "output_type": "stream",
     "text": [
      "34\n"
     ]
    }
   ],
   "source": [
    "print(len(news_data))"
   ]
  },
  {
   "cell_type": "code",
   "execution_count": 11,
   "metadata": {},
   "outputs": [
    {
     "name": "stdout",
     "output_type": "stream",
     "text": [
      "0\n"
     ]
    }
   ],
   "source": [
    "print(news_data[30]['label'])"
   ]
  },
  {
   "cell_type": "code",
   "execution_count": null,
   "metadata": {},
   "outputs": [],
   "source": []
  }
 ],
 "metadata": {
  "kernelspec": {
   "display_name": "Python 3",
   "language": "python",
   "name": "python3"
  },
  "language_info": {
   "codemirror_mode": {
    "name": "ipython",
    "version": 3
   },
   "file_extension": ".py",
   "mimetype": "text/x-python",
   "name": "python",
   "nbconvert_exporter": "python",
   "pygments_lexer": "ipython3",
   "version": "3.7.0"
  }
 },
 "nbformat": 4,
 "nbformat_minor": 2
}
