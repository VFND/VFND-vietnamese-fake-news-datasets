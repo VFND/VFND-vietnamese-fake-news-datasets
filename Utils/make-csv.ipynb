{
 "cells": [
  {
   "cell_type": "markdown",
   "metadata": {},
   "source": [
    "# Tạo file CSV \n",
    "\n",
    "__Tham khảo__:\n",
    "1. [Writing a dictionary to a csv file with one line for every 'key: value'](https://stackoverflow.com/a/8685873/5144980)\n",
    "2. [How to save a Python Dictionary to CSV file?](https://www.tutorialspoint.com/How-to-save-a-Python-Dictionary-to-CSV-file)\n",
    "3. [Dictionary to CSV & List to CSV in Python](https://www.idiotinside.com/2015/04/14/export-dict-to-csv-list-to-csv-in-python/)"
   ]
  },
  {
   "cell_type": "code",
   "execution_count": 1,
   "metadata": {},
   "outputs": [],
   "source": [
    "import os, json, csv\n",
    "\n",
    "from utils import numericalSort"
   ]
  },
  {
   "cell_type": "markdown",
   "metadata": {},
   "source": [
    "```write_dict_to_csv```: Tạo file csv và đưa toàn bộ dữ liệu trong ```dictionary list``` vào"
   ]
  },
  {
   "cell_type": "code",
   "execution_count": 2,
   "metadata": {},
   "outputs": [],
   "source": [
    "def get_csv_header(dict_list):\n",
    "    return list(dict_list[0].keys())"
   ]
  },
  {
   "cell_type": "code",
   "execution_count": 3,
   "metadata": {},
   "outputs": [],
   "source": [
    "def write_dict_to_csv(filename, dict_list):\n",
    "    try:\n",
    "        csv_columns = get_csv_header(dict_list)\n",
    "        with open(filename, 'w+', encoding='UTF-8') as csv_file:\n",
    "            writer = csv.DictWriter(csv_file, fieldnames=csv_columns)\n",
    "            writer.writeheader()\n",
    "            for data in dict_list:\n",
    "                writer.writerow(data)\n",
    "    except Exception as e:\n",
    "        print(e)"
   ]
  },
  {
   "cell_type": "code",
   "execution_count": 4,
   "metadata": {},
   "outputs": [],
   "source": [
    "fake_path = '../Article_Contents/Fake'\n",
    "real_path = '../Article_Contents/Real'\n",
    "\n",
    "fake_label = 1\n",
    "real_label = 0\n",
    "\n",
    "\n",
    "file_path = \"./CSV/\""
   ]
  },
  {
   "cell_type": "markdown",
   "metadata": {},
   "source": [
    "## 1. Dạng #1\n",
    "Tạo file CSV có cấu trúc:\n",
    "\n",
    "```Title + Text || Lable (fake = 1 or real = 0)```\n"
   ]
  },
  {
   "cell_type": "code",
   "execution_count": 5,
   "metadata": {},
   "outputs": [],
   "source": [
    "news_data1 = list()"
   ]
  },
  {
   "cell_type": "markdown",
   "metadata": {},
   "source": [
    "Tham khảo từ:\n",
    "1. write-document\n",
    "2. [Load and read all files json in a folder with python](https://stackoverflow.com/a/48715737/5144980)\n",
    "3. [Reading files in a particular order in python](https://stackoverflow.com/a/12093995/5144980)"
   ]
  },
  {
   "cell_type": "markdown",
   "metadata": {},
   "source": [
    "_get_\\__data_: load các file json trong các đường dẫn có trước vào _list các dictionary_"
   ]
  },
  {
   "cell_type": "code",
   "execution_count": 6,
   "metadata": {},
   "outputs": [],
   "source": [
    "def get_data_from_article(path, label):\n",
    "    data_list = []\n",
    "    json_files = [ x for x in os.listdir(path) if x.endswith(\"json\") ]\n",
    "    json_files = sorted(json_files, key=numericalSort) #sort file in numeric order\n",
    "    \n",
    "    for file in json_files:\n",
    "        with open(os.path.join(path, file), encoding='utf-8') as j:\n",
    "            try:     \n",
    "                data_dict = json.load(j)            \n",
    "                text_str = data_dict['title'] + '\\n' + data_dict['text']\n",
    "                data = {\n",
    "                    \"text\": text_str,\n",
    "                    \"label\": label\n",
    "                }\n",
    "                data_list.append(data)\n",
    "            except Exception as e:\n",
    "                print(e, ': ', file)\n",
    "                continue\n",
    "    return data_list\n",
    "        "
   ]
  },
  {
   "cell_type": "code",
   "execution_count": 7,
   "metadata": {},
   "outputs": [],
   "source": [
    "def get_data_from_facebook(path, label):\n",
    "    data_list = []\n",
    "    json_files = [ x for x in os.listdir(path) if x.endswith(\"json\") ]\n",
    "    json_files = sorted(json_files, key=numericalSort) #sort file in numeric order\n",
    "    \n",
    "    for file in json_files:\n",
    "        with open(os.path.join(path, file), encoding='utf-8') as j:\n",
    "            try:     \n",
    "                data_dict = json.load(j)            \n",
    "                text_str = data_dict['text']\n",
    "                data = {\n",
    "                    \"text\": text_str,\n",
    "                    \"label\": label\n",
    "                }\n",
    "                data_list.append(data)\n",
    "            except Exception as e:\n",
    "                print(e, ': ', file)\n",
    "                continue\n",
    "    return data_list"
   ]
  },
  {
   "cell_type": "code",
   "execution_count": 8,
   "metadata": {},
   "outputs": [
    {
     "name": "stdout",
     "output_type": "stream",
     "text": [
      "Fake:  100\n",
      "Real:  123\n"
     ]
    }
   ],
   "source": [
    "fake_list = get_data_from_article(fake_path, fake_label)\n",
    "real_list = get_data_from_article(real_path, real_label)\n",
    "\n",
    "print('Fake: ', len(fake_list))\n",
    "print('Real: ', len(real_list))"
   ]
  },
  {
   "cell_type": "code",
   "execution_count": 9,
   "metadata": {},
   "outputs": [],
   "source": [
    "fake_fb = get_data_from_facebook('../Facebook/Fake', fake_label)"
   ]
  },
  {
   "cell_type": "markdown",
   "metadata": {},
   "source": [
    "Đưa tất cả các tin tức thật và giả trong 2 list ```fake_list, real_list``` vào cùng 1 list để có thể đưa vào file ```data.csv```"
   ]
  },
  {
   "cell_type": "code",
   "execution_count": 10,
   "metadata": {},
   "outputs": [],
   "source": [
    "news_data1.extend(fake_list)\n",
    "news_data1.extend(real_list)\n",
    "news_data1.extend(fake_fb)"
   ]
  },
  {
   "cell_type": "markdown",
   "metadata": {},
   "source": [
    "### Đưa dữ liệu từ ```news_data1``` vào file ```data1.csv```"
   ]
  },
  {
   "cell_type": "code",
   "execution_count": 11,
   "metadata": {},
   "outputs": [],
   "source": [
    "file_name_1 = \"data1.csv\"\n",
    "\n",
    "file_1 = os.path.join(file_path, file_name_1)"
   ]
  },
  {
   "cell_type": "code",
   "execution_count": 13,
   "metadata": {},
   "outputs": [],
   "source": [
    "write_dict_to_csv(file_1, news_data1)"
   ]
  },
  {
   "cell_type": "markdown",
   "metadata": {},
   "source": [
    "## Dạng #2"
   ]
  },
  {
   "cell_type": "code",
   "execution_count": null,
   "metadata": {},
   "outputs": [],
   "source": []
  },
  {
   "cell_type": "code",
   "execution_count": null,
   "metadata": {},
   "outputs": [],
   "source": []
  }
 ],
 "metadata": {
  "kernelspec": {
   "display_name": "Python 3",
   "language": "python",
   "name": "python3"
  },
  "language_info": {
   "codemirror_mode": {
    "name": "ipython",
    "version": 3
   },
   "file_extension": ".py",
   "mimetype": "text/x-python",
   "name": "python",
   "nbconvert_exporter": "python",
   "pygments_lexer": "ipython3",
   "version": "3.7.0"
  }
 },
 "nbformat": 4,
 "nbformat_minor": 2
}
