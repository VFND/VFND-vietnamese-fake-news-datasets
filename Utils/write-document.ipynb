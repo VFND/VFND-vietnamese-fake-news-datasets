{
 "cells": [
  {
   "cell_type": "markdown",
   "metadata": {},
   "source": [
    "# write-document\n",
    "Dùng để lấy nội dung đưa vào các file README.md trong các thư mục\n",
    "\n",
    "Tham khảo từ \n",
    "1. [Load and read all files json in a folder with python](https://stackoverflow.com/a/48715737/5144980)\n",
    "2. [Reading files in a particular order in python](https://stackoverflow.com/a/12093995/5144980)"
   ]
  },
  {
   "cell_type": "code",
   "execution_count": 1,
   "metadata": {},
   "outputs": [],
   "source": [
    "import os, json, re\n",
    "from utils import numericalSort"
   ]
  },
  {
   "cell_type": "markdown",
   "metadata": {},
   "source": [
    "Đường dẫn đến thư mục chứa các bài báo với lable là \"fake\" và \"real\""
   ]
  },
  {
   "cell_type": "code",
   "execution_count": 2,
   "metadata": {},
   "outputs": [],
   "source": [
    "fake_path = \"../Article_Contents/Fake\"\n",
    "real_path = \"../Article_Contents/Real\""
   ]
  },
  {
   "cell_type": "markdown",
   "metadata": {},
   "source": [
    "Sắp xếp theo thứ tự số học, áp dụng cho việc sắp xếp các file, tham khảo ở \\[2\\]. (_numericalSort được đưa vào file utils_)"
   ]
  },
  {
   "cell_type": "code",
   "execution_count": 3,
   "metadata": {},
   "outputs": [],
   "source": [
    "# numbers = re.compile(r'(\\d+)')\n",
    "# def numericalSort(value):\n",
    "#     parts = numbers.split(value)\n",
    "#     parts[1::2] = map(int, parts[1::2])\n",
    "#     return parts"
   ]
  },
  {
   "cell_type": "markdown",
   "metadata": {},
   "source": [
    "Từ các file xuất ra dưới dạng:\n",
    "\n",
    "```<Tên file>[<Tên bài báo>](<Link tới bài báo>)```\n",
    "\n",
    "Sau đó trả về dưới dạng chuỗi"
   ]
  },
  {
   "cell_type": "code",
   "execution_count": 4,
   "metadata": {},
   "outputs": [],
   "source": [
    "def documenting(path):\n",
    "    doc_string = \"\"\n",
    "    json_files = [ x for x in os.listdir(path) if x.endswith(\"json\") ]\n",
    "    json_files = sorted(json_files, key=numericalSort) #sort file in numeric order\n",
    "    \n",
    "    for file in json_files:\n",
    "        doc_string += (os.path.splitext(file)[0] + ': [')\n",
    "        with open(os.path.join(path, file), encoding='utf-8') as j:\n",
    "            data_dict = json.load(j)\n",
    "            doc_string += (data_dict['title']+'](' + data_dict['url'] + ')\\n\\n')\n",
    "    return doc_string\n",
    "        "
   ]
  },
  {
   "cell_type": "code",
   "execution_count": 5,
   "metadata": {},
   "outputs": [
    {
     "name": "stdout",
     "output_type": "stream",
     "text": [
      "VFND_Ac_Fake_1: [Thủ tướng Abe cúi đầu xin lỗi vì hành động phi thể thao của tuyển Nhật](http://binhluan.biz/thu-tuong-abe-cui-dau-xin-loi-vi-hanh-dong-phi-the-thao-cua-tuyen-nhat.html)\n",
      "\n",
      "VFND_Ac_Fake_2: [Thủ tướng Nhật cúi đầu xin lỗi vì tinh thần phi thể thao của đội bóng](https://www.ipick.vn/bai-viet/thu-tuong-nhat-cui-dau-xin-loi-vi-tinh-than-phi-the-thao-cua-doi-bong)\n",
      "\n",
      "VFND_Ac_Fake_3: [Choáng! Cơ trưởng đeo khăn quàng quẩy banh nóc trên sân khấu trường!!!](http://tintucqpvn.net/choang-co-truong-deo-khan-quang-quay-banh-noc-tren-san-khau-truong.html)\n",
      "\n",
      "VFND_Ac_Fake_4: [Chưa bao giờ nhạc Kpop lại dễ hát đến thế!!!](http://tintucqpvn.net/chua-bao-gio-nhac-kpop-lai-de-hat-den-the.html)\n",
      "\n",
      "VFND_Ac_Fake_5: [Đại học Hutech sẽ áp dụng cải cách \"Tiếq Việt\" vào năm học 2018?](http://www.gioitreviet.net/dai-hoc-hutech-se-ap-dung-cai-cach-tieq-viet-vao-nam-hoc-2018-59528.html)\n",
      "\n",
      "VFND_Ac_Fake_6: [Cười vỡ bụng khi tiếng CẢI CÁCH \"vuông tròn\" xâm nhập chợ búa, các mẹ sử dụng chuyên nghiệp](https://giadinhtiepthi.com/cuoi-vo-bung-khi-tieng-cai-cach-vuong-tron-xam-nhap-cho-bua-cac-su-dung-chuyen-nghiep/)\n",
      "\n",
      "VFND_Ac_Fake_7: [Chia sẻ thẳng thắn vụ việc 25000 USD và cải cách giáo dục, rốt cục là “sân si” hay là “ganh tị”](https://giadinhtiepthi.com/chia-se-thang-than-vu-viec-25000-usd-va-cai-cach-giao-duc-rot-cuc-la-san-si-hay-la-ganh-ti/)\n",
      "\n",
      "VFND_Ac_Fake_8: [Hại não với Vọng Cổ mang tên Vuông Tròn Tam Giác!](http://tintucqpvn.net/hai-nao-voi-vong-co-mang-ten-vuong-tron-tam-giac.html)\n",
      "\n",
      "VFND_Ac_Fake_9: [Kinh hoàng bé gái bị chó nhà tấn công, cắn vào khắp người gây phẫn nộ](http://tintucqpvn.net/kinh-hoang-be-gai-bi-cho-nha-tan-cong-can-vao-khap-nguoi-gay-phan-no.html)\n",
      "\n",
      "VFND_Ac_Fake_10: [Bức vẽ giúp bạn đánh giá mức độ stress của bản thân](https://suckhoe.vnexpress.net/tin-tuc/tu-van/buc-ve-giup-ban-danh-gia-muc-do-stress-cua-ban-than-3840208.html)\n",
      "\n",
      "VFND_Ac_Fake_11: [KHẨN CẤP: Hàng loạt trẻ em nhập viện vì ngộ độc thịt lợn có chứa thuốc an thần](http://phapluat.news/khan-cap-hang-loat-tre-em-nhap-vien-vi-ngo-doc-thit-lon-co-chua-thuoc.html)\n",
      "\n",
      "VFND_Ac_Fake_12: [Không đủ tiền tiêu hủy, Chi cục Thú y đề nghị Thảo Cầm Viên mua lại chó hoang làm mồi cho sư tử](http://phapluat.news/khong-du-tien-tieu-huy-chi-cuc-thu-y-de-nghi-thao-cam-vien-mua-lai-cho-hoang-lam-moi-cho-su-tu.html)\n",
      "\n",
      "VFND_Ac_Fake_13: [KHẨN CẤP: Xuất hiện xe bắt chó giả ở TP.HCM](http://autoxe.net/doi-song/khan-cap-xuat-hien-xe-bat-cho-gia-o-tp-hcm.html)\n",
      "\n",
      "VFND_Ac_Fake_14: [Đề xuất cấm tất cả công chức Hà Nội đổ xăng tại trạm xăng Nhật](http://phapluat.news/de-xuat-cam-tat-ca-cong-chuc-ha-noi-xang-tai-tram-xang-nhat.html)\n",
      "\n",
      "VFND_Ac_Fake_15: [Thanh niên 24 bỗng hóa người rắn sau 1 đêm, da dẻ nứt toác đen xì ai nhìn cũng hã-i](http://tintucqpvn.net/thanh-nien-24-bong-hoa-nguoi-ran-sau-1-dem-da-de-nut-toac-den-xi-ai-nhin-cung-ha-i.html)\n",
      "\n",
      "VFND_Ac_Fake_16: [5 mẹo 'thần thánh' đánh bay mụn trong một đêm](https://thegioitre.vn/5-meo-than-thanh-danh-bay-mun-trong-mot-dem-47385.html)\n",
      "\n",
      "VFND_Ac_Fake_17: [Dân tình \"tá hỏa\" với hình ảnh \"mát mẻ\", phì phèo thuốc lá của Erik sau bao nhiêu năm làm \"trai ngoan\"](https://thegioitre.vn/dan-tinh-ta-hoa-voi-hinh-anh-mat-me-phi-pheo-thuoc-la-cua-erik-sau-bao-nhieu-nam-lam-trai-ngoan-61821.html)\n",
      "\n",
      "VFND_Ac_Fake_18: [Hollywood sẽ làm siêu phẩm về Tết Mậu Thân 1968 ở Huế?](https://www.ipick.vn/bai-viet/hollywood-se-lam-sieu-pham-ve-tet-mau-than-1968-o-hue)\n",
      "\n",
      "VFND_Ac_Fake_19: [Hoạ sỹ khuyết tật Lê Minh Châu trở thành người Việt đầu tiên có tên trên Đại lộ Danh vọng Hollywood](http://baoangiang.com.vn/hoa-sy-khuyet-tat-le-minh-chau-tro-thanh-nguoi-viet-dau-tien-co-ten-tren-dai-lo-danh-vong-hollywood-a234717.html)\n",
      "\n",
      "VFND_Ac_Fake_20: [Bà cụ 92 vẫn mang thai, tá hỏa đưa đi khám mới phát hiện sự thật động trời sau 50 năm](http://thoibao.today/paper/ba-cu-92-van-mang-thai-ta-hoa-dua-di-kham-moi-phat-hien-su-that-dong-troi-sau-50-nam-2316227)\n",
      "\n",
      "VFND_Ac_Fake_21: [Phát hiện sự thật động trời sau việc chồng “không.. được”](http://thoibao.today/paper/phat-hien-su-that-dong-troi-sau-viec-chong-khong-duoc-1736407)\n",
      "\n",
      "VFND_Ac_Fake_22: [VIDEO: Xót xa nhìn cảnh cụ bà 87 tuổi co ro trong tấm chiếu cũ giữa mùa đông rét buốt](http://haiduong.tintuc.vn/goc-hai-duong/video-xot-xa-nhin-canh-cu-ba-87-tuoi-co-ro-trong-tam-chieu-cu-giua-mua-dong-ret-buot.html)\n",
      "\n",
      "VFND_Ac_Fake_23: [Một phụ nữ bịt mặt bắt cóc cháu bé 5 tuổi bị người dân tóm gọn](https://laodong.vn/phap-luat/mot-phu-nu-bit-mat-bat-coc-chau-be-5-tuoi-bi-nguoi-dan-tom-gon-605391.ldo)\n",
      "\n",
      "VFND_Ac_Fake_24: [Bi kịch ngoại tình với bố chồng](http://sorry.vn/blog/read/131-Bi-kich-ngoai-tinh-voi-bo-chong.html)\n",
      "\n",
      "VFND_Ac_Fake_25: [Đức từ chối cấp Visa cho đoàn công tác nhà nước, tạm ngừng cấp Visa cho du học sinh Việt Nam?](https://thoibao.de/duc-tu-choi-cap-visa-cho-doan-cong-tac-nha-nuoc-tam-ngung-cap-visa-cho-du-hoc-sinh-viet-nam)\n",
      "\n",
      "VFND_Ac_Fake_26: [Đại sứ quán Đức tại Hà Nội từ chối cấp Visa cho lao động Việt Nam sang học nghề điều dưỡng](https://thoibao.de/dai-su-quan-duc-o-ha-noi-tu-choi-cap-visa-cho-lao-dong-viet-nam-sang-hoc-nghe-dieu-duong)\n",
      "\n",
      "VFND_Ac_Fake_27: [Sự thật kinh hoàng về nước Mỹ qua lời kể của một du học sinh Trung Quốc](http://baonuocmy.com/doi-song/su-that-kinh-hoang-ve-nuoc-my-qua-loi-ke-cua-mot-du-hoc-sinh-trung-quoc-78613.html?fbclid=IwAR0JCXj-9pg-tzhBOT_GJqKzKFUkyXmbVqhkl4p6-R3i0tf6rCwTvCv5F1M)\n",
      "\n",
      "\n"
     ]
    }
   ],
   "source": [
    "fake_news_doc = documenting(fake_path)\n",
    "print(fake_news_doc)"
   ]
  },
  {
   "cell_type": "code",
   "execution_count": 7,
   "metadata": {},
   "outputs": [
    {
     "name": "stdout",
     "output_type": "stream",
     "text": [
      "VFND_Ac_Real_1: [Tung tin &#39;Mr Bean&#39; qua đời để phát tán virus độc hại](https://news.zing.vn/tung-tin-mr-bean-qua-doi-de-phat-tan-virus-doc-hai-post861659.html)\n",
      "\n",
      "VFND_Ac_Real_2: [Nhân chứng kể lại phút đối mặt với tên cướp ngân hàng](https://news.zing.vn/nhan-chung-ke-lai-phut-doi-mat-voi-ten-cuop-ngan-hang-post874648.html)\n",
      "\n",
      "VFND_Ac_Real_3: [Hãng chuyển phát nhanh phá sản, khách từ Sài Gòn ra Hà Nội đòi tiền](https://news.zing.vn/hang-chuyen-phat-nhanh-pha-san-khach-tu-sai-gon-ra-ha-noi-doi-tien-post874640.html)\n",
      "\n",
      "VFND_Ac_Real_4: [Go-Jek và Grab giành giật thị trường Indonesia ra sao?](https://news.zing.vn/go-jek-va-grab-gianh-giat-thi-truong-indonesia-ra-sao-post874114.html)\n",
      "\n",
      "VFND_Ac_Real_5: [Không có chuyện thí điểm chữ viết 'Tiếq Việt' bậc đại học ở TP.HCM](https://news.zing.vn/khong-co-chuyen-thi-diem-chu-viet-tieq-viet-bac-dai-hoc-o-tphcm-post800493.html)\n",
      "\n",
      "VFND_Ac_Real_6: [Bộ Công Thương kết luận Con Cưng có sai sót nhưng không bán hàng giả](https://news.zing.vn/bo-cong-thuong-ket-luan-con-cung-co-sai-sot-nhung-khong-ban-hang-gia-post869549.html)\n",
      "\n",
      "VFND_Ac_Real_7: [Phát hiện văn phòng công chứng giả tại TP.HCM](https://thanhnien.vn/thoi-su/phat-hien-van-phong-cong-chung-gia-tai-tphcm-1008502.html)\n",
      "\n",
      "\n"
     ]
    }
   ],
   "source": [
    "real_news_doc = documenting(real_path)\n",
    "print(real_news_doc)"
   ]
  },
  {
   "cell_type": "code",
   "execution_count": null,
   "metadata": {},
   "outputs": [],
   "source": []
  }
 ],
 "metadata": {
  "kernelspec": {
   "display_name": "Python 3",
   "language": "python",
   "name": "python3"
  },
  "language_info": {
   "codemirror_mode": {
    "name": "ipython",
    "version": 3
   },
   "file_extension": ".py",
   "mimetype": "text/x-python",
   "name": "python",
   "nbconvert_exporter": "python",
   "pygments_lexer": "ipython3",
   "version": "3.7.0"
  }
 },
 "nbformat": 4,
 "nbformat_minor": 2
}
