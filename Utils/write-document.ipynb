{
 "cells": [
  {
   "cell_type": "markdown",
   "metadata": {},
   "source": [
    "# write-document\n",
    "Dùng để lấy nội dung đưa vào các file README.md trong các thư mục\n",
    "\n",
    "Tham khảo từ \n",
    "1. [Load and read all files json in a folder with python](https://stackoverflow.com/a/48715737/5144980)\n",
    "2. [Reading files in a particular order in python](https://stackoverflow.com/a/12093995/5144980)"
   ]
  },
  {
   "cell_type": "code",
   "execution_count": null,
   "metadata": {},
   "outputs": [],
   "source": [
    "import os, json, re\n",
    "from utils import numericalSort"
   ]
  },
  {
   "cell_type": "markdown",
   "metadata": {},
   "source": [
    "Đường dẫn đến thư mục chứa các bài báo với lable là \"fake\" và \"real\""
   ]
  },
  {
   "cell_type": "code",
   "execution_count": null,
   "metadata": {},
   "outputs": [],
   "source": [
    "fake_path = \"../Article_Contents/Fake\"\n",
    "real_path = \"../Article_Contents/Real\""
   ]
  },
  {
   "cell_type": "markdown",
   "metadata": {},
   "source": [
    "Sắp xếp theo thứ tự số học, áp dụng cho việc sắp xếp các file, tham khảo ở \\[2\\]. (_numericalSort được đưa vào file utils_)"
   ]
  },
  {
   "cell_type": "code",
   "execution_count": null,
   "metadata": {},
   "outputs": [],
   "source": [
    "# numbers = re.compile(r'(\\d+)')\n",
    "# def numericalSort(value):\n",
    "#     parts = numbers.split(value)\n",
    "#     parts[1::2] = map(int, parts[1::2])\n",
    "#     return parts"
   ]
  },
  {
   "cell_type": "markdown",
   "metadata": {},
   "source": [
    "Từ các file xuất ra dưới dạng:\n",
    "\n",
    "```<Tên file>[<Tên bài báo>](<Link tới bài báo>)```\n",
    "\n",
    "Sau đó trả về dưới dạng chuỗi"
   ]
  },
  {
   "cell_type": "code",
   "execution_count": null,
   "metadata": {},
   "outputs": [],
   "source": [
    "def documenting(path):\n",
    "    doc_string = \"\"\n",
    "    json_files = [ x for x in os.listdir(path) if x.endswith(\"json\") ]\n",
    "    json_files = sorted(json_files, key=numericalSort) #sort file in numeric order\n",
    "    \n",
    "    for file in json_files:\n",
    "        doc_string += (os.path.splitext(file)[0] + ': [')\n",
    "        with open(os.path.join(path, file), encoding='utf-8') as j:\n",
    "            data_dict = json.load(j)\n",
    "            doc_string += (data_dict['title']+'](' + data_dict['url'] + ')\\n\\n')\n",
    "    return doc_string\n",
    "        "
   ]
  },
  {
   "cell_type": "markdown",
   "metadata": {},
   "source": [
    "Trả về document cho Fake và Real"
   ]
  },
  {
   "cell_type": "code",
   "execution_count": null,
   "metadata": {},
   "outputs": [],
   "source": [
    "fake_news_doc = documenting(fake_path)\n",
    "print(fake_news_doc)"
   ]
  },
  {
   "cell_type": "code",
   "execution_count": null,
   "metadata": {},
   "outputs": [],
   "source": [
    "real_news_doc = documenting(real_path)\n",
    "print(real_news_doc)"
   ]
  }
 ],
 "metadata": {
  "kernelspec": {
   "display_name": "Python 3",
   "language": "python",
   "name": "python3"
  },
  "language_info": {
   "codemirror_mode": {
    "name": "ipython",
    "version": 3
   },
   "file_extension": ".py",
   "mimetype": "text/x-python",
   "name": "python",
   "nbconvert_exporter": "python",
   "pygments_lexer": "ipython3",
   "version": "3.7.0"
  }
 },
 "nbformat": 4,
 "nbformat_minor": 2
}
