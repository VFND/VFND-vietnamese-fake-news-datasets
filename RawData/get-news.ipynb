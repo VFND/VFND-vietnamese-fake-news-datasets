{
 "cells": [
  {
   "cell_type": "markdown",
   "metadata": {},
   "source": [
    "# Dùng get-news để crawl dữ liệu tin tức\n",
    "\n",
    "## 1. Import thư viện để crawl\n",
    "Dùng thư viện news-please, thư viện này từ repo sau [fhamborg/news-please](https://github.com/fhamborg/news-please). "
   ]
  },
  {
   "cell_type": "code",
   "execution_count": 1,
   "metadata": {},
   "outputs": [],
   "source": [
    "import json\n",
    "from newsplease import NewsPlease"
   ]
  },
  {
   "cell_type": "markdown",
   "metadata": {},
   "source": [
    "## 2. Các dữ liệu tin tức giả"
   ]
  },
  {
   "cell_type": "markdown",
   "metadata": {},
   "source": [
    "URL về Fake News, tập hợp từ các bài viết có nội dung không được xác minh về nguồn tin, hoặc được xác nhận sai,..."
   ]
  },
  {
   "cell_type": "code",
   "execution_count": 2,
   "metadata": {},
   "outputs": [],
   "source": [
    "fake_news_urls = ['http://tintucqpvn.net/choang-co-truong-deo-khan-quang-quay-banh-noc-tren-san-khau-truong.html', \n",
    "                 'http://tintucqpvn.net/chua-bao-gio-nhac-kpop-lai-de-hat-den-the.html']"
   ]
  },
  {
   "cell_type": "markdown",
   "metadata": {},
   "source": [
    "Bắt đầu crawl dữ liệu tin tức giả đưa vào list fake_articles"
   ]
  },
  {
   "cell_type": "code",
   "execution_count": 3,
   "metadata": {},
   "outputs": [],
   "source": [
    "fake_articles = []\n",
    "for fake_url in fake_news_urls:\n",
    "    fake_articles.append(NewsPlease.from_url(fake_url))"
   ]
  },
  {
   "cell_type": "markdown",
   "metadata": {},
   "source": [
    "Tên của các file json sẽ chứa nội dung vừa crawl"
   ]
  },
  {
   "cell_type": "code",
   "execution_count": 4,
   "metadata": {},
   "outputs": [],
   "source": [
    "fake_no = 3\n",
    "fake_prefix = 'VFND_Ac_Fake_'"
   ]
  },
  {
   "cell_type": "markdown",
   "metadata": {},
   "source": [
    "Đưa các dữ liệu vừa crawl vào các file json dữ liệu. Các thông số cho json.dump lần lượt là: __default = str__ đưa tất cả về string để tránh lỗi trong quá trình parse dữ liệu dạng _datetime_ sang json của các trường date\\_modify, date\\_download, date\\_publish; __ensure\\_ascii=False__ là để giữ các dữ liệu text ở dạng Unicode - để không bị lỗi khi đưa vào file json khi để text ở định dạng Unicode, thì trong phần __open()__ đặt thông số _encoding='utf-8'_. "
   ]
  },
  {
   "cell_type": "code",
   "execution_count": 5,
   "metadata": {},
   "outputs": [],
   "source": [
    "for fake in fake_articles:\n",
    "    fake_name = fake_prefix + str(fake_no) + '.json'\n",
    "    fake_no = fake_no + 1\n",
    "    \n",
    "    with open(fake_name, 'w', encoding='utf-8') as outfile:\n",
    "        json.dump(fake.__dict__, outfile, indent=4, sort_keys=True, default=str, ensure_ascii=False)"
   ]
  },
  {
   "cell_type": "markdown",
   "metadata": {},
   "source": [
    "Test các kết quả trả ra khi crawl ở cell dưới"
   ]
  },
  {
   "cell_type": "code",
   "execution_count": 6,
   "metadata": {},
   "outputs": [
    {
     "name": "stdout",
     "output_type": "stream",
     "text": [
      "{'authors': [], 'date_download': datetime.datetime(2018, 9, 8, 18, 17, 39), 'date_modify': None, 'date_publish': datetime.datetime(2018, 9, 6, 13, 58, 23), 'description': None, 'filename': 'http%3A%2F%2Ftintucqpvn.net%2Fchua-bao-gio-nhac-kpop-lai-de-hat-den-the.html.json', 'image_url': 'http://tintucqpvn.net/wp-content/uploads/2018/09/tv1-1105485.jpg', 'language': 'en', 'localpath': None, 'title': 'Chưa bao giờ nhạc Kpop lại dễ hát đến thế!!!', 'title_page': None, 'title_rss': None, 'source_domain': 'tintucqpvn.net', 'text': None, 'url': 'http://tintucqpvn.net/chua-bao-gio-nhac-kpop-lai-de-hat-den-the.html'}\n"
     ]
    }
   ],
   "source": [
    "print (fake_articles[1].__dict__)"
   ]
  },
  {
   "cell_type": "markdown",
   "metadata": {},
   "source": [
    "## 3. Các dữ liệu tin tức thật"
   ]
  },
  {
   "cell_type": "code",
   "execution_count": 7,
   "metadata": {},
   "outputs": [],
   "source": [
    "real_news_urls = ['https://news.zing.vn/nhan-chung-ke-lai-phut-doi-mat-voi-ten-cuop-ngan-hang-post874648.html',\n",
    "                 'https://news.zing.vn/hang-chuyen-phat-nhanh-pha-san-khach-tu-sai-gon-ra-ha-noi-doi-tien-post874640.html',\n",
    "                 'https://news.zing.vn/go-jek-va-grab-gianh-giat-thi-truong-indonesia-ra-sao-post874114.html']"
   ]
  },
  {
   "cell_type": "markdown",
   "metadata": {},
   "source": [
    "Bắt đầu crawl dữ liệu "
   ]
  },
  {
   "cell_type": "code",
   "execution_count": 8,
   "metadata": {},
   "outputs": [],
   "source": [
    "real_articles = []\n",
    "for real_url in real_news_urls:\n",
    "    real_articles.append(NewsPlease.from_url(real_url))"
   ]
  },
  {
   "cell_type": "code",
   "execution_count": 9,
   "metadata": {},
   "outputs": [],
   "source": [
    "real_no = 2\n",
    "real_prefix = 'VFND_Ac_Real_'"
   ]
  },
  {
   "cell_type": "code",
   "execution_count": 10,
   "metadata": {},
   "outputs": [],
   "source": [
    "for real in real_articles:\n",
    "    real_name = real_prefix + str(real_no) + '.json'\n",
    "    real_no = real_no + 1\n",
    "    with open(real_name, 'w', encoding='utf-8') as outfile:\n",
    "        json.dump(real.__dict__, outfile, indent=4, sort_keys=True, default=str, ensure_ascii=False)"
   ]
  },
  {
   "cell_type": "code",
   "execution_count": 11,
   "metadata": {},
   "outputs": [
    {
     "name": "stdout",
     "output_type": "stream",
     "text": [
      "{'authors': ['Hiếu Công'], 'date_download': datetime.datetime(2018, 9, 8, 18, 17, 45), 'date_modify': None, 'date_publish': datetime.datetime(2018, 9, 5, 16, 6), 'description': 'Nghe tin GNN Express tuyên bố phá sản, nhiều khách hàng đã tìm đến trụ sở của hãng để đòi lại tiền bị nợ. Trong số này nhiều người dùng dịch vụ của đơn vị này 3-4 năm.', 'filename': 'https%3A%2F%2Fnews.zing.vn%2Fhang-chuyen-phat-nhanh-pha-san-khach-tu-sai-gon-ra-ha-noi-doi-tien-post874640.html.json', 'image_url': 'https://stc.v3.news.zing.vn/favicon.ico', 'language': 'vi', 'localpath': None, 'title': 'Hãng chuyển phát nhanh phá sản, khách từ Sài Gòn ra Hà Nội đòi tiền', 'title_page': None, 'title_rss': None, 'source_domain': 'news.zing.vn', 'text': 'Nghe tin GNN Express tuyên bố phá sản, nhiều khách hàng đã tìm đến trụ sở của hãng để đòi lại tiền bị nợ. Trong số này nhiều người dùng dịch vụ của đơn vị này 3-4 năm.\\nSáng 5/9, hàng chục khách hàng đã kéo đến trụ sở Công ty giao hàng GNN Express tại phố Nguyễn Lương Bằng (Hà Nội) để đòi lại tiền sau khi doanh nghiệp này tuyên bố phá sản. Trong con phố nhỏ, trụ sở công ty không còn nhân viên hoạt động, kho hàng đã trống rỗng, nhiều trang thiết bị đã được đóng gói.\\nHai đại diện của GNN Express tiếp xúc với khách là ông Hoàng Ngọc, Tổng giám đốc, và ông Hoàng Mai Nam, Chủ tịch HĐQT. Giữa sự bức xúc của hàng chục khách hàng, các lãnh đạo hãng chuyển phát nhanh trấn an, giải thích, hứa sẽ trả nợ trong thời gian sớm nhất.\\nKhông khí tại trụ sở GNN không có to tiếng hay xô xát, các bên nói chuyện ôn hòa với nhau.\\nSáng 5/9, hàng chục khách hàng đến trụ sở GNN Express để đòi tiền. Ảnh: HC.\\nTheo nguồn tin của Zing.vn, có một nhóm khoảng 28 khách hàng lớn mà GNN Express nợ từ 50 triệu đồng đến 400 triệu đồng, thậm chí nhiều hơn. Đây là những khách hàng bức xúc nhất, liên tục gọi điện cũng như đến tận trụ sở công ty để đòi tiền.\\nTrong nhóm này có người bay từ TP.HCM ra. Vị này từ chối tiết lộ danh tính cũng như số tiền mình đang bị nợ, tuy nhiên tỏ ra sốt ruột khi GNN không lắng nghe và tiếp nhận ý kiến của mình.\\nSáng nay, ngày 5/9, trên fanpage GNN Express đăng thông báo ký tên bởi Chủ tịch HĐQT Hoàng Mai Nam. Thông báo cho biết hiện tại doanh nghiệp có thể thu hồi khoản công nợ 800 triệu đồng, trong đó dành 200 triệu trả lương nhân viên, số còn lại có thể thanh toán trả khách hàng.\\nKhách hàng được ưu tiên trả lại là những người có khoản nợ dưới 2 triệu đồng trước ngày 15/9. Còn những người nợ nhiều, doanh nghiệp chỉ cam kết trả khoảng 20% nợ trong tháng 9 và mỗi tháng tiếp theo thanh toán 10% cho đến khi tất toán.\\nÔng Hoàng Mai Nam (Chủ tịch HĐQT GNN Express) liên tục giải thích cho khách hàng. Ảnh: HC.\\nNhóm \"chủ nợ\" lớn của GNN Express bức xúc trước phương án xử lý của doanh nghiệp. Một khách hàng tên Yến Nhi chia sẻ chị và nhiều người có khoản nợ hàng trăm triệu đồng không chấp nhận việc doanh nghiệp thanh toán những người nợ ít trước, còn những người nợ nhiều thì không.\\nCác khách hàng yêu cầu GNN thống kê mọi khoản nợ của khách hàng để 2 bên đối chất. Sau đó, khi có tiền, GNN Express phải ưu tiên thanh toán cho những người bị nợ nhiều, tương ứng theo tỷ lệ % của tổng khoản nợ.\\nSau đối thoại, đại diện GNN Express cam kết sẽ thống kê nhanh chóng các khoản nợ để đối soát. Khi có tiền sẽ ưu tiên trả cho những người có khoản nợ nhiều.\\nNhóm những người bị nợ nhiều thì cho biết đã thuê luật sư và sẽ tiếp tục đòi nợ đến cùng. Nhiều người trong số này tỏ ra tiếc nuối khi GNN Express bị phá sản. Theo một số khách hàng, GNN Express vốn là một hãng giao hàng uy tín, giá thành thuộc hàng trung, nhưng chăm sóc khách hàng rất tốt, nhiều người đã sử dụng dịch vụ được 3-4 năm nay.\\nTừ giữa tháng 7, GNN Express liên tục khất khoản tiền thu hộ (COD) của các đối tác. Nhiều khách hàng sử dụng dịch vụ từ lâu đã đồng ý cho khất nợ, rồi bất ngờ khi GNN Express đột ngột thông báo ngừng hoạt động với khoản nợ tiền thu hộ của khách 5,5 tỷ đồng vào ngày 1/9.\\nKho chứa hàng hóa của GNN Express gần như trống rỗng, nhân viên đã không còn làm việc. Ảnh: HC.\\nTrao đổi với Zing.vn, ông Hoàng Mai Nam, Chủ tịch HĐQT GNN Express, cho biết để doanh nghiệp xảy ra tình trạng hiện nay có phần trách nhiệm chính của Tổng giám đốc Hoàng Ngọc.\\nDoanh nghiệp này cũng gặp khó khăn khi nhiều hàng hóa bị thất lạc phải đền, không thu hồi được công nợ, nhiều hàng hóa cũng bị quản lý thị trường tịch thu… Công ty phải lạm dụng tiền COD của khách hàng để trả lương cho nhân viên, vận hành, rồi quay vòng vốn. Khi không có khả năng thanh toán, GNN đã tuyên bố phá sản.\\nVị này cũng cho biết sẽ cân nhắc đến việc quy trách nhiệm hoặc khởi kiện ông Hoàng Ngọc tại Tòa án kinh tế Hà Nội tùy theo thái độ hợp tác của ông Ngọc. Hiện tại ông Ngọc vẫn được cổ đông của GNN ủy quyền giải quyết tồn đọng hàng hóa, nợ đọng tiền thu hộ của khách hàng.', 'url': 'https://news.zing.vn/hang-chuyen-phat-nhanh-pha-san-khach-tu-sai-gon-ra-ha-noi-doi-tien-post874640.html'}\n"
     ]
    }
   ],
   "source": [
    "print(real_articles[1].__dict__)"
   ]
  },
  {
   "cell_type": "code",
   "execution_count": null,
   "metadata": {},
   "outputs": [],
   "source": []
  },
  {
   "cell_type": "code",
   "execution_count": null,
   "metadata": {},
   "outputs": [],
   "source": []
  }
 ],
 "metadata": {
  "kernelspec": {
   "display_name": "Python 3",
   "language": "python",
   "name": "python3"
  },
  "language_info": {
   "codemirror_mode": {
    "name": "ipython",
    "version": 3
   },
   "file_extension": ".py",
   "mimetype": "text/x-python",
   "name": "python",
   "nbconvert_exporter": "python",
   "pygments_lexer": "ipython3",
   "version": "3.6.5"
  }
 },
 "nbformat": 4,
 "nbformat_minor": 2
}
