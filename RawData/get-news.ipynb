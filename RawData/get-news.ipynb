{
 "cells": [
  {
   "cell_type": "markdown",
   "metadata": {},
   "source": [
    "# Dùng get-news để crawl dữ liệu tin tức\n",
    "\n",
    "## Import thư viện để crawl\n",
    "Dùng thư viện news-please, thư viện này từ repo sau [fhamborg/news-please](https://github.com/fhamborg/news-please). "
   ]
  },
  {
   "cell_type": "code",
   "execution_count": 1,
   "metadata": {},
   "outputs": [],
   "source": [
    "from newsplease import NewsPlease"
   ]
  },
  {
   "cell_type": "markdown",
   "metadata": {},
   "source": [
    "Các dữ liệu tin tức giả"
   ]
  },
  {
   "cell_type": "code",
   "execution_count": 2,
   "metadata": {},
   "outputs": [],
   "source": [
    "fake_news_urls = ['']"
   ]
  },
  {
   "cell_type": "markdown",
   "metadata": {},
   "source": [
    "Các dữ liệu tin tức thật"
   ]
  },
  {
   "cell_type": "code",
   "execution_count": 3,
   "metadata": {},
   "outputs": [],
   "source": [
    "real_news_urls = ['https://news.zing.vn/nhan-chung-ke-lai-phut-doi-mat-voi-ten-cuop-ngan-hang-post874648.html',\n",
    "                 'https://news.zing.vn/hang-chuyen-phat-nhanh-pha-san-khach-tu-sai-gon-ra-ha-noi-doi-tien-post874640.html',\n",
    "                 'https://news.zing.vn/go-jek-va-grab-gianh-giat-thi-truong-indonesia-ra-sao-post874114.html']"
   ]
  },
  {
   "cell_type": "markdown",
   "metadata": {},
   "source": [
    "Bắt đầu crawl dữ liệu "
   ]
  },
  {
   "cell_type": "code",
   "execution_count": 4,
   "metadata": {},
   "outputs": [],
   "source": [
    "articles = NewsPlease.from_url('https://news.zing.vn/nhan-chung-ke-lai-phut-doi-mat-voi-ten-cuop-ngan-hang-post874648.html', timeout=6)"
   ]
  },
  {
   "cell_type": "code",
   "execution_count": 5,
   "metadata": {},
   "outputs": [
    {
     "name": "stdout",
     "output_type": "stream",
     "text": [
      "<NewsArticle.NewsArticle object at 0x000002156B47DD30>\n"
     ]
    }
   ],
   "source": [
    "print(articles)"
   ]
  },
  {
   "cell_type": "code",
   "execution_count": null,
   "metadata": {},
   "outputs": [],
   "source": []
  },
  {
   "cell_type": "code",
   "execution_count": null,
   "metadata": {},
   "outputs": [],
   "source": []
  }
 ],
 "metadata": {
  "kernelspec": {
   "display_name": "Python 3",
   "language": "python",
   "name": "python3"
  },
  "language_info": {
   "codemirror_mode": {
    "name": "ipython",
    "version": 3
   },
   "file_extension": ".py",
   "mimetype": "text/x-python",
   "name": "python",
   "nbconvert_exporter": "python",
   "pygments_lexer": "ipython3",
   "version": "3.6.5"
  }
 },
 "nbformat": 4,
 "nbformat_minor": 2
}
